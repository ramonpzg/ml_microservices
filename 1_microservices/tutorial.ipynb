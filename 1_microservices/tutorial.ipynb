{
 "cells": [
  {
   "cell_type": "markdown",
   "metadata": {},
   "source": [
    "# Introduction to Microservices"
   ]
  },
  {
   "cell_type": "markdown",
   "metadata": {},
   "source": [
    "## Table of Contents"
   ]
  },
  {
   "cell_type": "markdown",
   "metadata": {},
   "source": [
    "1. Overview\n",
    "2. Tools\n",
    "3. Architecture\n",
    "4. Back-End\n",
    "5. Front-End Templates\n",
    "6. Models\n",
    "7. Testing\n",
    "9. Exercise"
   ]
  },
  {
   "cell_type": "markdown",
   "metadata": {},
   "source": [
    "## 1. Overview"
   ]
  },
  {
   "cell_type": "markdown",
   "metadata": {},
   "source": [
    "In this part of the workshop, we're going to learn about how to get started creating microservices, \n",
    "for more traditional software development use cases and for machine learning microservices.\n",
    "\n",
    "**What are microservices?**\n",
    "Microservices are an architectural approach to building applications as a collection of small, modular, \n",
    "independently deployable services. \n",
    "\n",
    "**What are machine learning microservices?**\n",
    "Machine learning microservices apply this approach to ML systems by decomposing them into smaller \n",
    "services that each focus on a specific capability or model. Some examples of machine learning microservices:\n",
    "\n",
    "- Model Training Service - Handles training ML models on new data.\n",
    "- Model Serving Service - Deploys trained models and provides predictions/inferences. \n",
    "- Data Processing Pipeline - Microservices for data ingestion, cleaning, preprocessing.\n",
    "- Model Monitoring Service - Tracks model performance and drift.\n",
    "- Experiment Tracking Service - Logs model experiments and results.\n",
    "\n",
    "The benefits of using microservices for machine learning include:\n",
    "\n",
    "- Independent scaling - Can allocate more resources to demanding services.\n",
    "- Fault isolation - If one service fails, others are not affected.\n",
    "- Flexible deployment - Can rapidly deploy updates to individual services.\n",
    "- Polyglot support - Mix languages/frameworks within services.\n",
    "- Organizational alignment - Teams can own discrete services.\n",
    "\n",
    "The main challenges are the added complexity of distributed systems and the need for coordination \n",
    "between services. Clear communication protocols and well-defined APIs are essential.\n",
    "\n",
    "Overall, microservices enable faster iteration and more robust and resilient ML systems, but require \n",
    "more up-front design and infrastructure coordination."
   ]
  },
  {
   "cell_type": "markdown",
   "metadata": {},
   "source": [
    "## 2. Tools"
   ]
  },
  {
   "cell_type": "markdown",
   "metadata": {},
   "source": [
    "For this section, we will be using the following tools.\n",
    "\n",
    "- FastAPI: FastAPI is like having a team of skilled architects and builders for constructing a house quickly and efficiently. It provides clear blueprints (API endpoints) and customization options, ensuring rapid development of robust and personalized APIs.\n",
    "- HTML: HTML is a markup language for building websites.\n",
    "- Tailwind CSS: a powerful CSS framework for building responsive websites.\n",
    "- Gradio: Gradio allows you to customize user interface by adding input fields, sliders, buttons, and more. It makes it easy for others to consume your code and interact with it in a way that suits their needs.\n",
    "- Jinja2: a templating tool that allows you to write HTML templates."
   ]
  },
  {
   "cell_type": "markdown",
   "metadata": {},
   "source": [
    "## 3. Architecture"
   ]
  },
  {
   "cell_type": "markdown",
   "metadata": {},
   "source": [
    "![archi1](../images/architecture_1.png)\n",
    "\n",
    "Every application or system needs an architecture, and even thought these are not often built into a diagram, it is good practice to visualize how we want to system to function and/or look before we get to coding. Let's start there.\n",
    "\n",
    "We will need:\n",
    "- a back-end\n",
    "- a front-end\n",
    "- 2 machine learning applications\n",
    "- tests\n",
    "- A DataBase (optional for this tutorial)"
   ]
  },
  {
   "cell_type": "markdown",
   "metadata": {},
   "source": [
    "## 4. The Back-End"
   ]
  },
  {
   "cell_type": "markdown",
   "metadata": {},
   "source": [
    "Here's an attempt to describe the front-end and back-end of a microservices application using analogies:\n",
    "\n",
    "The front-end is like a traveler exploring a foreign city, navigating between sites and activities. It acts as the user interface, calling different services to assemble experiences. The React/Angular UI is the traveler's map, guiding them between locations. Redux/Flux stores are travel journals, recording visits to services. APIs are transit systems, with protocols like GraphQL as subway maps. User auth is visa security, granting access privileges.\n",
    "\n",
    "The back-end is like a bustling marketplace, full of vendors running independent shops. Services are merchant stalls, focused on specific capabilities. Data pipelines act as supply chains, moving inventory between stalls. Monitoring services are the market inspector, checking goods and stall conditions. APIs are the signboards and directions that connect the marketplace. Scaling changes the number of vendor stalls. New capabilities are added by launching new pop-up shops.\n",
    "\n",
    "To travel the market (use the app), the front-end explorer (UI) relies on the directions (APIs) to visit the right merchants (services). Back-end organization and protocols enable smooth exploration. Microservices create a thriving software bazaar!\n",
    "\n",
    "Let's begin with an example server that has one kind of API. Every time we call our API we'll get a joke back."
   ]
  },
  {
   "cell_type": "code",
   "execution_count": null,
   "metadata": {},
   "outputs": [],
   "source": [
    "%%writefile example/jokes.py\n",
    "\n",
    "from fastapi import FastAPI\n",
    "import pyjokes\n",
    "\n",
    "app = FastAPI()\n",
    "\n",
    "@app.get(\"/joke\")\n",
    "def get_joke():\n",
    "    joke = pyjokes.get_joke()\n",
    "    return {\"joke\": joke}"
   ]
  },
  {
   "cell_type": "markdown",
   "metadata": {},
   "source": [
    "To run a server with FastAPI we need to use uvicorn or gunicorn. The reason for this is that FastAPI applications need a specialized ASGI (Asynchronous Server Gateway Interface) server to run and to handle concurrent connections efficiently. ASGI servers can handle asynchronous request processing, allowing multiple requests to be processed simultaneously without blocking the execution flow, which is of high importance for high-performance web applications, APIs, and services.\n",
    "\n",
    "Uvicorn and Gunicorn are popular ASGI servers used to run FastAPI applications:\n",
    "\n",
    "To run a FastAPI application using Uvicorn, you can use the following command:\n",
    "   \n",
    "```\n",
    "uvicorn main:app --reload\n",
    "```\n",
    "\n",
    "Here, `main` refers to the Python file (`main.py` in this case), and `app` is the instance of our FastAPI application.\n",
    "\n",
    "2. **Gunicorn:** Gunicorn is a production-ready ASGI server that can handle high loads and is suitable for deploying demanding applications. Gunicorn provides more configuration options and allows you to scale your application across multiple worker processes or even multiple server instances behind a load balancer\n",
    "\n",
    "To run a FastAPI application using Gunicorn, you can use the following command:\n",
    "   \n",
    "```\n",
    "gunicorn -w 4 -k uvicorn.workers.UvicornWorker main:app\n",
    "```\n",
    "\n",
    "In this command, `-w 4` specifies the number of worker processes (you can adjust this based on your server's resources), and `main:app` refers to the module and FastAPI instance.\n",
    "\n",
    "With that bit of intro out of the way, let's run our app.\n",
    "\n",
    "```sh\n",
    "uvicorn main:app --reload\n",
    "```\n",
    "\n",
    "Once our server is up and running, we can send a GET requests to it using the requests library as below."
   ]
  },
  {
   "cell_type": "code",
   "execution_count": null,
   "metadata": {},
   "outputs": [],
   "source": [
    "import requests\n",
    "\n",
    "response = requests.get(\"http://localhost:8000/joke\")\n",
    "print(response.status_code, \"\\n\", response.json())"
   ]
  },
  {
   "cell_type": "markdown",
   "metadata": {},
   "source": [
    "Please keep your expectations low and your dad jokes tolerance high with these examples. The `pyjokes` library can be a hit and miss with the quality of the jokes.🫣\n",
    "\n",
    "One of the cool features about FastAPI is that comes with support for swagger documentation. This means that the kinds of requests your users can make to your microservices built with FastAPI will be readily available at the `http:localhost:8000/docs` endpoint. For example,\n",
    "\n",
    "![swag_1](../images/swagger1.png)\n",
    "\n",
    "and you also get visibility on each method.\n",
    "\n",
    "![swag_2](../images/swagger2.png)"
   ]
  },
  {
   "cell_type": "markdown",
   "metadata": {},
   "source": [
    "### Exercise"
   ]
  },
  {
   "cell_type": "markdown",
   "metadata": {},
   "source": [
    "Download a package a create a new API that, when called, returns something back. You can get as creative as you'd like to with the result. 😎"
   ]
  },
  {
   "cell_type": "code",
   "execution_count": null,
   "metadata": {},
   "outputs": [],
   "source": []
  },
  {
   "cell_type": "code",
   "execution_count": null,
   "metadata": {},
   "outputs": [],
   "source": []
  },
  {
   "cell_type": "markdown",
   "metadata": {},
   "source": [
    "Now that we know a bit about how we can create APIs, let build the back-end of our first application."
   ]
  },
  {
   "cell_type": "code",
   "execution_count": null,
   "metadata": {},
   "outputs": [],
   "source": [
    "%%writefile main.py\n",
    "\n",
    "from fastapi import FastAPI, Request\n",
    "\n",
    "app = FastAPI()\n",
    "\n",
    "@app.get(\"/\")\n",
    "async def read_root(request: Request):\n",
    "    pass\n",
    "\n",
    "@app.get(\"/service1\")\n",
    "async def read_page1(request: Request):\n",
    "    pass\n",
    "\n",
    "@app.get(\"/service2\")\n",
    "async def read_page2(request: Request):\n",
    "    pass"
   ]
  },
  {
   "cell_type": "markdown",
   "metadata": {},
   "source": [
    "Although the file above needs a bit of modification, it already contains a good skeleton of our backend. Let's \n",
    "unpack our file above.\n",
    "\n",
    "In the snippet above, we created an application with 3 components:\n",
    "1. A home route\n",
    "2. A page with some service\n",
    "3. Another page with another service\n",
    "\n",
    "These 3 pieces will come up as `your_kul_website.com` (the home page), `your_kul_website.com/service1`, and `your_kul_website.com/service2`.\n",
    "\n",
    "Each of these services will have some sort of front-end template, and the functionality within each \n",
    "could be composed of multiple services as well (as we will see shortly)."
   ]
  },
  {
   "cell_type": "markdown",
   "metadata": {},
   "source": [
    "## 5. Front-End Templates"
   ]
  },
  {
   "cell_type": "markdown",
   "metadata": {},
   "source": [
    "As data professionals or machine learning engineers, chances are that we might not have much \n",
    "experience with front-end development, but that can't and shouldn't stop us from being able to put \n",
    "some makeup on our apps. To help us with this, we have Jinja2, a Python library that helps us \n",
    "build templates that add structure and format to the content of our applications.\n",
    "\n",
    "Let's build a template for the home page of our application. This page should contain 2 buttons, \n",
    "one for each service, plus a nice look and feel. We will add it to a templates directory."
   ]
  },
  {
   "cell_type": "markdown",
   "metadata": {},
   "source": [
    "### 5.1 The Home Page"
   ]
  },
  {
   "cell_type": "code",
   "execution_count": null,
   "metadata": {},
   "outputs": [],
   "source": [
    "%%writefile templates/home.html\n",
    "\n",
    "<!DOCTYPE html>\n",
    "<html lang=\"en\">\n",
    "\n",
    "<head>\n",
    "    <meta charset=\"UTF-8\">\n",
    "    <meta name=\"viewport\" content=\"width=device-width, initial-scale=1.0\">\n",
    "    <title>Building Machine Learning Microservices</title>\n",
    "    <link href=\"https://cdn.jsdelivr.net/npm/tailwindcss@2.2.16/dist/tailwind.min.css\" rel=\"stylesheet\">\n",
    "</head>\n",
    "\n",
    "<body class=\"bg-gray-200 flex flex-col items-center justify-center h-screen\">\n",
    "    <div class=\"text-center\">\n",
    "        <h1 class=\"text-4xl font-bold mb-4\">Building Machine Learning Microservices</h1>\n",
    "        <p class=\"text-lg mb-8\">Description of a generic machine learning application goes here.</p>\n",
    "        <button class=\"bg-blue-500 hover:bg-blue-700 text-white font-bold py-2 px-4 rounded mb-4\">\n",
    "            Microservice 1\n",
    "        </button>\n",
    "        <button class=\"bg-green-500 hover:bg-green-700 text-white font-bold py-2 px-4 rounded\">\n",
    "            Microservice 2\n",
    "        </button>\n",
    "    </div>\n",
    "</body>\n",
    "\n",
    "</html>"
   ]
  },
  {
   "cell_type": "markdown",
   "metadata": {},
   "source": [
    "What we have above is a standard HTML file with\n",
    "- a type --> `DOCTYPE` which tells a web browser that the type of that document is HTML\n",
    "- Container tags\n",
    "  - `<html>`\n",
    "    - a `<head>` --> you can think of this as the settings of the document\n",
    "    - a `<body>` --> this has all of the content of the document\n",
    "- some style pulled from tailwind.css\n",
    "- and two nice-looking buttons to go back and forth between our services.\n",
    "\n",
    "Now that we have a template, we can update our API one step at a time and initialize our \n",
    "service. If the previous server we instantiated (`jokes.py`) is still running, make sure to \n",
    "stop it first with Ctrl + C in your terminal."
   ]
  },
  {
   "cell_type": "code",
   "execution_count": null,
   "metadata": {},
   "outputs": [],
   "source": [
    "%%writefile main.py\n",
    "\n",
    "from fastapi import FastAPI, Request\n",
    "from fastapi.templating import Jinja2Templates\n",
    "\n",
    "app = FastAPI()\n",
    "\n",
    "templates = Jinja2Templates(directory=\"./templates\")\n",
    "\n",
    "@app.get(\"/\")\n",
    "async def read_root(request: Request):\n",
    "    return templates.TemplateResponse(\"home.html\", {\"request\": request})"
   ]
  },
  {
   "cell_type": "markdown",
   "metadata": {},
   "source": [
    "Notice that FastAPI comes with a handy class to tell it where our templates live. Once we point \n",
    "it to the right directory, we can write the name of the template we want that route to use and \n",
    "send it to users when they request it.\n",
    "\n",
    "In your terminal, run the following command:\n",
    "\n",
    "```bash\n",
    "uvicorn main:app --reload\n",
    "```\n",
    "and then open the browser at `http://localhost:8000/`. You should be able to see the following home page.\n",
    "\n",
    "![hp](../images/home_screen.png)\n",
    "\n",
    "Notice that there is some separation of concerns happening here. If could, realistically, have a team \n",
    "members asynchronously focusing on model development, others would be working on these templates, and \n",
    "others on the back-end of our desktop app, website, mobile app, game, edge device, etc."
   ]
  },
  {
   "cell_type": "markdown",
   "metadata": {},
   "source": [
    "### 5.2 Our First Service"
   ]
  },
  {
   "cell_type": "markdown",
   "metadata": {},
   "source": [
    "Now that our website has a face, let's create the first service page. For this, we'll need another \n",
    "template and a machine learning model, but we'll worry about the latter in a bit and focus on the \n",
    "former now."
   ]
  },
  {
   "cell_type": "code",
   "execution_count": null,
   "metadata": {},
   "outputs": [],
   "source": [
    "%%writefile templates/page1.html\n",
    "\n",
    "<!DOCTYPE html>\n",
    "<html lang=\"en\">\n",
    "\n",
    "<head>\n",
    "    <meta charset=\"UTF-8\">\n",
    "    <meta name=\"viewport\" content=\"width=device-width, initial-scale=1.0\">\n",
    "    <title>Machine Learning Microservice</title>\n",
    "    <link href=\"https://cdn.jsdelivr.net/npm/tailwindcss@2.2.16/dist/tailwind.min.css\" rel=\"stylesheet\">\n",
    "    <style>\n",
    "        body {height: 100vh; display: flex; flex-direction: column; justify-content: center; align-items: center;}\n",
    "        .container {text-align: center;}\n",
    "\n",
    "        #launchButton {display: none;}\n",
    "        #launchButtonLabel {\n",
    "            cursor: pointer; background-color: #4CAF50; color: white; padding: 14px 32px; text-align: center; text-decoration: none;\n",
    "            display: inline-block; font-size: 16px; margin-top: 20px; border-radius: 8px; transition: background-color 0.3s ease;\n",
    "        }\n",
    "        #launchButton:checked+#launchButtonLabel {background-color: #45a049;}\n",
    "        #gradioIframe {width: 80vw; height: 80vh; border: 1px solid #ccc; border-radius: 10px; display: none; margin-top: 20px;}\n",
    "        #launchButton:checked~#gradioIframe {display: block;}\n",
    "    </style>\n",
    "</head>\n",
    "<body>\n",
    "    <div class=\"container bg-white p-8 rounded shadow-md w-full text-center\">\n",
    "        <h1 class=\"text-3xl font-bold mb-6\">Machine Learning Microservice 1</h1>\n",
    "        <p class=\"text-gray-600 mb-8\">This microservice provides access to a powerful machine learning model.</p>\n",
    "        <input type=\"checkbox\" id=\"launchButton\" class=\"hidden\">\n",
    "        <label for=\"launchButton\" id=\"launchButtonLabel\">Launch ML App</label>\n",
    "        <div id=\"gradioIframe\" class=\"mt-6 hidden\">\n",
    "            <iframe src=\"https://gradio.s3-us-west-2.amazonaws.com/3.27.0/gradio.js\" frameborder=\"0\" class=\"w-full h-full\"></iframe>\n",
    "        </div>\n",
    "    </div>\n",
    "</body>\n",
    "</html>"
   ]
  },
  {
   "cell_type": "markdown",
   "metadata": {},
   "source": [
    "Now that we have our first service created, we can add into our FastAPI server a new GET method \n",
    "for the new template."
   ]
  },
  {
   "cell_type": "code",
   "execution_count": null,
   "metadata": {},
   "outputs": [],
   "source": [
    "%%writefile -a main.py\n",
    "\n",
    "@app.get(\"/service1\")\n",
    "async def read_page1(request: Request):\n",
    "    return templates.TemplateResponse(\"page1.html\", {\"request\": request})"
   ]
  },
  {
   "cell_type": "markdown",
   "metadata": {},
   "source": [
    "We can examine the new template at `http://localhost:8000/service1` without having to restart our service.\n",
    "\n",
    "when you clicked the button to show the machine learning app, you probably noticed that what popped up \n",
    "seemed like the real deal. The reason is that we embedded a live gradio app from the hugging face hub. \n",
    "\n",
    "We can do he same with apps served from our laptops. In addition, if we do so using gradio, we could even \n",
    "serve our application to the world by passing the parameter `share=True` to the `app.lunch()` method.\n",
    "\n",
    "Before we create our next template, let create and initialize a gradio app with a music enhancer."
   ]
  },
  {
   "cell_type": "code",
   "execution_count": null,
   "metadata": {},
   "outputs": [],
   "source": []
  },
  {
   "cell_type": "markdown",
   "metadata": {},
   "source": [
    "To run the gradio app, you can use any of the following two commands.\n",
    "\n",
    "```sh\n",
    "python path/to/gradio_app.py\n",
    "\n",
    "# or (this needs to be from the directory with your app file)\n",
    "gradio app.py\n",
    "```\n",
    "\n",
    "Next, we'll create a new html file, similar to the one from before but showcasing our newly created app."
   ]
  },
  {
   "cell_type": "code",
   "execution_count": null,
   "metadata": {},
   "outputs": [],
   "source": [
    "%%writefile \n",
    "\n",
    "<!DOCTYPE html>\n",
    "<html lang=\"en\">\n",
    "\n",
    "<head>\n",
    "    <meta charset=\"UTF-8\">\n",
    "    <meta name=\"viewport\" content=\"width=device-width, initial-scale=1.0\">\n",
    "    <title>Machine Learning Microservice</title>\n",
    "    <link href=\"https://cdn.jsdelivr.net/npm/tailwindcss@2.2.16/dist/tailwind.min.css\" rel=\"stylesheet\">\n",
    "</head>\n",
    "<style>\n",
    "    body \n",
    "    #gradioIframe {width: 60vw; height: 80vh; border: 1px solid #ccc; border-radius: 10px; display: none; margin-top: 20px;}\n",
    "    #launchButton:checked~#gradioIframe {display: block;}\n",
    "</style>\n",
    "<body class=\"bg-gray-200 h-screen flex items-center justify-center\">\n",
    "    <div class=\"container bg-white p-8 rounded shadow-md w-full text-center\">\n",
    "        <h1 class=\"text-3xl font-bold mb-6\">Machine Learning Microservice 1</h1>\n",
    "        <p class=\"text-gray-600 mb-8\">This microservice provides access to a powerful machine learning model.</p>\n",
    "        <input type=\"checkbox\" id=\"launchButton\" class=\"hidden\">\n",
    "        <label for=\"launchButton\"\n",
    "            class=\"bg-blue-500 hover:bg-blue-700 text-white font-semibold py-3 px-6 rounded-lg cursor-pointer transition duration-300 ease-in-out\">\n",
    "            Launch ML App\n",
    "        </label>\n",
    "        <div id=\"gradioIframe\" class=\"mt-6 flex hidden justify-center items-center\">\n",
    "            <iframe src=\"http://127.0.0.1:7860\" frameborder=\"0\" class=\"w-full h-full\"></iframe>\n",
    "        </div>\n",
    "    </div>\n",
    "</body>\n",
    "</html>"
   ]
  },
  {
   "cell_type": "markdown",
   "metadata": {},
   "source": [
    "We can now add another GET method to our main server and it will be updated on the fly."
   ]
  },
  {
   "cell_type": "code",
   "execution_count": null,
   "metadata": {},
   "outputs": [],
   "source": [
    "%%writefile -a main.py\n",
    "\n",
    "@app.get(\"/service2\")\n",
    "async def read_page2(request: Request):\n",
    "    return templates.TemplateResponse(\"page2.html\", {\"request\": request})"
   ]
  },
  {
   "cell_type": "markdown",
   "metadata": {},
   "source": [
    "The last piece of the puzzle is to link our templates with one another. While we can do this step \n",
    "in many ways (e.g. via FastAPI, HTMX, or JavaScript), we will add straightforward tabs to our main page."
   ]
  },
  {
   "cell_type": "code",
   "execution_count": null,
   "metadata": {},
   "outputs": [],
   "source": [
    "%%writefile templates/home.html\n",
    "\n",
    "<!DOCTYPE html>\n",
    "<html lang=\"en\">\n",
    "\n",
    "<head>\n",
    "    <meta charset=\"UTF-8\">\n",
    "    <meta name=\"viewport\" content=\"width=device-width, initial-scale=1.0\">\n",
    "    <title>Building Machine Learning Microservices</title>\n",
    "    <link href=\"https://cdn.jsdelivr.net/npm/tailwindcss@2.2.16/dist/tailwind.min.css\" rel=\"stylesheet\">\n",
    "</head>\n",
    "\n",
    "<body class=\"bg-gray-200 flex flex-col items-center justify-center h-screen\">\n",
    "    <div class=\"text-center\">\n",
    "        <h1 class=\"text-4xl font-bold mb-4\">Building Machine Learning Microservices</h1>\n",
    "        <p class=\"text-lg mb-8\">Description of a generic machine learning application goes here.</p>\n",
    "        <a href=\"page1.html\">\n",
    "            <button class=\"bg-blue-500 hover:bg-blue-700 text-white font-bold py-2 px-4 rounded mb-4\">\n",
    "                Microservice 1\n",
    "            </button>\n",
    "        </a>\n",
    "        <a href=\"page2.html\">\n",
    "            <button class=\"bg-green-500 hover:bg-green-700 text-white font-bold py-2 px-4 rounded\">\n",
    "                Microservice 2\n",
    "            </button>\n",
    "        </a>\n",
    "    </div>\n",
    "</body>\n",
    "</html>"
   ]
  },
  {
   "cell_type": "markdown",
   "metadata": {},
   "source": [
    "## 7. Testing"
   ]
  },
  {
   "cell_type": "markdown",
   "metadata": {},
   "source": [
    "When testing your FastAPI app with pytest, you can write various types of tests to ensure that different aspects of your application are working correctly. Here are some types of tests you can consider:\n",
    "\n",
    "1. **Unit Tests:**\n",
    "   - Test individual functions or methods in isolation to ensure they work as expected.\n",
    "   - For example, you can test the function that fetches jokes from the `pyjokes` library to ensure it returns valid jokes.\n",
    "\n",
    "2. **Integration Tests:**\n",
    "   - Test the interactions between different components of your app.\n",
    "   - For FastAPI apps, this can involve testing how different endpoints interact and whether the data flow between them is correct.\n",
    "\n",
    "3. **Endpoint Tests:**\n",
    "   - Test each endpoint of your API to ensure they handle various input scenarios correctly and return the expected responses.\n",
    "   - Use pytest fixtures to mock HTTP requests and test different HTTP methods (GET, POST, etc.) and request payloads.\n",
    "\n",
    "4. **Error Handling Tests:**\n",
    "   - Test how your app handles different types of errors, such as invalid requests or server errors.\n",
    "   - Ensure that appropriate error responses (with correct status codes and error messages) are returned.\n",
    "\n",
    "5. **Security Tests:**\n",
    "   - Test security features, such as authentication and authorization mechanisms.\n",
    "   - Ensure that unauthenticated users cannot access protected endpoints and that authorized users can access them appropriately.\n",
    "\n",
    "6. **Performance Tests:**\n",
    "   - Test the performance of your app by simulating a large number of requests and measuring response times.\n",
    "   - Identify potential bottlenecks and optimize your code or infrastructure as needed.\n",
    "\n",
    "7. **Edge Case Tests:**\n",
    "   - Test your app with edge cases, such as empty inputs, boundary values, or unexpected data formats.\n",
    "   - Ensure your app behaves correctly and gracefully in these scenarios.\n",
    "\n",
    "8. **Data Persistence Tests (if applicable):**\n",
    "   - If your app interacts with a database, test database operations (e.g., CRUD operations) to ensure data integrity.\n",
    "   - Use fixtures to set up and tear down test data for database-related tests.\n",
    "\n",
    "When writing tests, consider using pytest fixtures to create reusable setup code for your tests. Also, utilize the `requests` library in combination with pytest to send HTTP requests to your app's endpoints and validate the responses.\n",
    "\n",
    "By covering these different aspects of your FastAPI app with tests, you can increase your confidence in its correctness, reliability, and security.\n",
    "\n",
    "Here are some examples of how you can write tests for your FastAPI app using pytest, covering different testing approaches:\n",
    "\n",
    "### 1. **Unit Tests:**\n",
    "\n",
    "Let's say you have a utility function in a module called `utils.py` that fetches jokes:\n",
    "\n",
    "```python\n",
    "# utils.py\n",
    "import pyjokes\n",
    "\n",
    "def get_random_joke():\n",
    "    return pyjokes.get_joke()\n",
    "```\n",
    "\n",
    "You can write a unit test for this function:\n",
    "\n",
    "```python\n",
    "# test_utils.py\n",
    "from utils import get_random_joke\n",
    "\n",
    "def test_get_random_joke():\n",
    "    joke = get_random_joke()\n",
    "    assert isinstance(joke, str)\n",
    "    assert len(joke) > 0\n",
    "```\n",
    "\n",
    "### 2. **Integration Tests:**\n",
    "\n",
    "For integration tests, you can test the interactions between different components of your app. Here's an example using FastAPI's `TestClient`:\n",
    "\n",
    "```python\n",
    "# test_integration.py\n",
    "from fastapi.testclient import TestClient\n",
    "from main import app\n",
    "\n",
    "client = TestClient(app)\n",
    "\n",
    "def test_get_joke_endpoint():\n",
    "    response = client.get(\"/joke\")\n",
    "    assert response.status_code == 200\n",
    "    data = response.json()\n",
    "    assert \"joke\" in data\n",
    "    assert isinstance(data[\"joke\"], str)\n",
    "    assert len(data[\"joke\"]) > 0\n",
    "```\n",
    "\n",
    "### 3. **Endpoint Tests:**\n",
    "\n",
    "You can write tests for specific endpoints, verifying their behavior for different scenarios:\n",
    "\n",
    "```python\n",
    "# test_endpoints.py\n",
    "from fastapi.testclient import TestClient\n",
    "from main import app\n",
    "\n",
    "client = TestClient(app)\n",
    "\n",
    "def test_get_joke_endpoint():\n",
    "    response = client.get(\"/joke\")\n",
    "    assert response.status_code == 200\n",
    "    data = response.json()\n",
    "    assert \"joke\" in data\n",
    "    assert isinstance(data[\"joke\"], str)\n",
    "    assert len(data[\"joke\"]) > 0\n",
    "\n",
    "# Add more endpoint tests as needed\n",
    "```\n",
    "\n",
    "### 4. **Error Handling Tests:**\n",
    "\n",
    "Test how your app handles errors:\n",
    "\n",
    "```python\n",
    "# test_error_handling.py\n",
    "from fastapi.testclient import TestClient\n",
    "from main import app\n",
    "\n",
    "client = TestClient(app)\n",
    "\n",
    "def test_invalid_endpoint():\n",
    "    response = client.get(\"/invalid_endpoint\")\n",
    "    assert response.status_code == 404\n",
    "    assert response.json() == {\"detail\": \"Not Found\"}\n",
    "\n",
    "# Add more error handling tests as needed\n",
    "```\n",
    "\n",
    "### 5. **Security Tests:**\n",
    "\n",
    "Test authentication and authorization mechanisms (assuming your app has authentication logic):\n",
    "\n",
    "```python\n",
    "# test_security.py\n",
    "from fastapi.testclient import TestClient\n",
    "from main import app\n",
    "\n",
    "client = TestClient(app)\n",
    "\n",
    "def test_authenticated_endpoint():\n",
    "    # Assuming you have authentication logic and obtain a token\n",
    "    headers = {\"Authorization\": \"Bearer <your_token>\"}\n",
    "    response = client.get(\"/authenticated_endpoint\", headers=headers)\n",
    "    assert response.status_code == 200\n",
    "\n",
    "def test_unauthenticated_endpoint():\n",
    "    response = client.get(\"/authenticated_endpoint\")\n",
    "    assert response.status_code == 401\n",
    "```\n",
    "\n",
    "These are basic examples to get you started. Depending on your app's complexity, you might need more elaborate tests and additional libraries (such as `pytest-mock` for mocking) to handle specific scenarios. Make sure to structure your tests based on your application's architecture and requirements."
   ]
  },
  {
   "cell_type": "markdown",
   "metadata": {},
   "source": [
    "## 9. Exercise"
   ]
  },
  {
   "cell_type": "markdown",
   "metadata": {},
   "source": [
    "1. Find an HTML template online and add it as a new file to the `templates` directory.\n",
    "2. Find an app that seems interesting to you in the hugging face hub and then copy it to a file \n",
    "in the servers directory and tweak it to fit your needs. (e.g. change the name of your app, add \n",
    "a different model, or change the layout of the app.)\n",
    "3. Create a new method for our `main.app` server and add your app to it."
   ]
  }
 ],
 "metadata": {
  "kernelspec": {
   "display_name": "ml_svcs_p3",
   "language": "python",
   "name": "python3"
  },
  "language_info": {
   "codemirror_mode": {
    "name": "ipython",
    "version": 3
   },
   "file_extension": ".py",
   "mimetype": "text/x-python",
   "name": "python",
   "nbconvert_exporter": "python",
   "pygments_lexer": "ipython3",
   "version": "3.11.6"
  }
 },
 "nbformat": 4,
 "nbformat_minor": 2
}
