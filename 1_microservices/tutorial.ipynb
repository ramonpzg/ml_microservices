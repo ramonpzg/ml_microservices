{
 "cells": [
  {
   "cell_type": "markdown",
   "metadata": {},
   "source": [
    "# Introduction to Microservices"
   ]
  },
  {
   "cell_type": "markdown",
   "metadata": {},
   "source": [
    "TODO: Quote"
   ]
  },
  {
   "cell_type": "markdown",
   "metadata": {},
   "source": [
    "TODO: Image"
   ]
  },
  {
   "cell_type": "markdown",
   "metadata": {},
   "source": [
    "## Table of Contents"
   ]
  },
  {
   "cell_type": "markdown",
   "metadata": {},
   "source": [
    "1. Overview\n",
    "2. Tools\n",
    "3. Architecture\n",
    "4. Main App\n",
    "5. Microservices\n",
    "6. Templates\n",
    "    - Model 1\n",
    "    - Model 2\n",
    "7. Testing\n",
    "8. Final Thoughts\n",
    "9. Exercise"
   ]
  },
  {
   "cell_type": "markdown",
   "metadata": {},
   "source": [
    "## 1. Overview"
   ]
  },
  {
   "cell_type": "markdown",
   "metadata": {},
   "source": [
    "In this part of the workshop, we're going to learn about how to get started creating microservices, \n",
    "for more traditional software development use cases and for machine learning microservices.\n",
    "\n",
    "**What are microservices?**\n",
    "Microservices are an architectural approach to building applications as a collection of small, modular, \n",
    "independently deployable services. \n",
    "\n",
    "**What are machine learning microservices?**\n",
    "Machine learning microservices apply this approach to ML systems by decomposing them into smaller \n",
    "services that each focus on a specific capability or model. Some examples of machine learning microservices:\n",
    "\n",
    "- Model Training Service - Handles training ML models on new data.\n",
    "- Model Serving Service - Deploys trained models and provides predictions/inferences. \n",
    "- Data Processing Pipeline - Microservices for data ingestion, cleaning, preprocessing.\n",
    "- Model Monitoring Service - Tracks model performance and drift.\n",
    "- Experiment Tracking Service - Logs model experiments and results.\n",
    "\n",
    "The benefits of using microservices for machine learning include:\n",
    "\n",
    "- Independent scaling - Can allocate more resources to demanding services.\n",
    "- Fault isolation - If one service fails, others are not affected.\n",
    "- Flexible deployment - Can rapidly deploy updates to individual services.\n",
    "- Polyglot support - Mix languages/frameworks within services.\n",
    "- Organizational alignment - Teams can own discrete services.\n",
    "\n",
    "The main challenges are the added complexity of distributed systems and the need for coordination \n",
    "between services. Clear communication protocols and well-defined APIs are essential.\n",
    "\n",
    "Looking at machine learning microservices for inference, monitoring, and explainability:\n",
    "\n",
    "For inference, a model serving microservice deploys trained models and handles prediction requests. Like a short order cook, it receives orders and rapidly serves up predictions. Architectures like Kubernetes can scale this service to handle spikes in traffic.\n",
    "\n",
    "Monitoring microservices track model performance over time. They're like fitness trackers for your ML models, logging metrics like accuracy, latency, and drift. This helps identify when models need retraining or updating.\n",
    "\n",
    "Explainability microservices analyze model behavior and describe the reasons behind predictions. These are like interpreters, translating model internal state into human-understandable explanations. Say for credit approval, they could identify the main factors driving a given prediction. \n",
    "\n",
    "Pulling this together into an ML application is like assembling a symphony. The components (inference, monitoring, explainability) each focus on their part, coordinating via well-defined interfaces. Get the orchestration right, and you end up with a harmonious ML system greater than the sum of its microservices.\n",
    "\n",
    "Let me know if you need any clarification or have additional examples to discuss!\n",
    "\n",
    "Overall, microservices enable faster iteration and more robust and resilient ML systems, but require \n",
    "more up-front design and infrastructure coordination."
   ]
  },
  {
   "cell_type": "markdown",
   "metadata": {},
   "source": [
    "## 2. Tools"
   ]
  },
  {
   "cell_type": "markdown",
   "metadata": {},
   "source": [
    "For this section, we will be using the following tools.\n",
    "- FastAPI\n",
    "- HTML\n",
    "- Tailwind CSS\n",
    "- Gradio\n",
    "- Pytest\n",
    "- "
   ]
  },
  {
   "cell_type": "code",
   "execution_count": null,
   "metadata": {},
   "outputs": [],
   "source": []
  },
  {
   "cell_type": "markdown",
   "metadata": {},
   "source": [
    "## 3. Architecture"
   ]
  },
  {
   "cell_type": "markdown",
   "metadata": {},
   "source": [
    "Every application or system needs an architecture, and even thought these are not often built into \n",
    "a diagram, it is good practice to visualize how we want to system to function and/or look before \n",
    "we get to coding. Let's start there.\n",
    "\n",
    "We will need\n",
    "- a back-end\n",
    "- a front-end\n",
    "- 2 machine learning applications\n",
    "- tests\n",
    "- A DataBase (optional for this tutorial)"
   ]
  },
  {
   "cell_type": "code",
   "execution_count": null,
   "metadata": {},
   "outputs": [],
   "source": []
  },
  {
   "cell_type": "markdown",
   "metadata": {},
   "source": []
  },
  {
   "cell_type": "markdown",
   "metadata": {},
   "source": []
  },
  {
   "cell_type": "code",
   "execution_count": null,
   "metadata": {},
   "outputs": [],
   "source": []
  },
  {
   "cell_type": "markdown",
   "metadata": {},
   "source": []
  },
  {
   "cell_type": "markdown",
   "metadata": {},
   "source": []
  },
  {
   "cell_type": "code",
   "execution_count": null,
   "metadata": {},
   "outputs": [],
   "source": []
  },
  {
   "cell_type": "markdown",
   "metadata": {},
   "source": []
  },
  {
   "cell_type": "markdown",
   "metadata": {},
   "source": []
  },
  {
   "cell_type": "code",
   "execution_count": null,
   "metadata": {},
   "outputs": [],
   "source": []
  },
  {
   "cell_type": "markdown",
   "metadata": {},
   "source": []
  },
  {
   "cell_type": "markdown",
   "metadata": {},
   "source": []
  }
 ],
 "metadata": {
  "kernelspec": {
   "display_name": "ml_svcs_p3",
   "language": "python",
   "name": "python3"
  },
  "language_info": {
   "name": "python",
   "version": "3.11.6"
  }
 },
 "nbformat": 4,
 "nbformat_minor": 2
}
